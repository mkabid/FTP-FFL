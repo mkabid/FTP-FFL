{
 "cells": [
  {
   "cell_type": "markdown",
   "id": "48e0b0bf-8e8a-4cd2-b33e-06b97b99af43",
   "metadata": {},
   "source": [
    "# Conditional Structures and Loops\n",
    "Welcome to this second part of introduction to python. We'll cover conditional structures and loops in python"
   ]
  },
  {
   "cell_type": "markdown",
   "id": "5f616cb5-7d51-49c3-ba09-857443f378f5",
   "metadata": {},
   "source": [
    "## If statement"
   ]
  },
  {
   "cell_type": "markdown",
   "id": "d959116f-f3c7-4fb5-88d0-65a57566a7f2",
   "metadata": {},
   "source": [
    "#### Simple if"
   ]
  },
  {
   "cell_type": "code",
   "execution_count": null,
   "id": "a5cd8b40-a6f8-4e5a-8f8e-579f0ab10a0f",
   "metadata": {},
   "outputs": [],
   "source": [
    "#syntax\n",
    "if condition :\n",
    "    statements # executed only if the condition is true"
   ]
  },
  {
   "cell_type": "markdown",
   "id": "5c0f64cb-72b7-4dbf-9e48-887dfafbdbe6",
   "metadata": {},
   "source": [
    "#### Example\n",
    "Here's a short english sentence:\n",
    "if it's hot then drink water "
   ]
  },
  {
   "cell_type": "code",
   "execution_count": null,
   "id": "759c8ddc-274e-4532-83e1-32867715f305",
   "metadata": {},
   "outputs": [],
   "source": [
    "#Let's translate this english sentence into python code:\n",
    "is_hot = True #define a boolean variable\n",
    "if is_hot:\n",
    "    print(\"drink water !\") #automatic indentation that shows the if block"
   ]
  },
  {
   "cell_type": "markdown",
   "id": "b909fa2e-4601-4d82-b6f2-68cd9ba71322",
   "metadata": {},
   "source": [
    "#### if-else"
   ]
  },
  {
   "cell_type": "code",
   "execution_count": null,
   "id": "5a9c47a5-8af7-45a8-9621-9b8286d11adb",
   "metadata": {},
   "outputs": [],
   "source": [
    "# syntax\n",
    "if condition :\n",
    "    statements # executed only if the condition is true\n",
    "else:\n",
    "    statements # executed only if the condition is false (the \"otherwise\" case)"
   ]
  },
  {
   "cell_type": "markdown",
   "id": "4da04550-42f4-426b-a5b1-541312309780",
   "metadata": {},
   "source": [
    "#### Example:\n",
    "if it's hot then drink water \n",
    "otherwise wear a coat"
   ]
  },
  {
   "cell_type": "code",
   "execution_count": 207,
   "id": "a3140e63-b739-409b-8ab3-37f0a608acc8",
   "metadata": {},
   "outputs": [
    {
     "name": "stdout",
     "output_type": "stream",
     "text": [
      "wear a coat !\n"
     ]
    }
   ],
   "source": [
    "#Let's translate this english paragraph into python code:\n",
    "is_hot = False #define a boolean variable\n",
    "if is_hot:\n",
    "    print(\"drink water !\") \n",
    "else:\n",
    "    print(\"wear a coat !\")"
   ]
  },
  {
   "cell_type": "markdown",
   "id": "e9f92181-468f-4e7c-8944-5c4af4fffde1",
   "metadata": {},
   "source": [
    "#### if- elif -else"
   ]
  },
  {
   "cell_type": "code",
   "execution_count": null,
   "id": "022cc3fb-3295-47e1-8204-bca9ef247fbd",
   "metadata": {},
   "outputs": [],
   "source": [
    "# syntax\n",
    "if condition1:\n",
    "    statements # executed only if  condition1 is true\n",
    "elif condition2:\n",
    "    statements # executed only if  condition1 is false and condition2 is true\n",
    "else:\n",
    "    statements # executed only if  condition1 and condition2 are false "
   ]
  },
  {
   "cell_type": "markdown",
   "id": "4477f59d-03dc-41f3-8810-e2c39f43c907",
   "metadata": {},
   "source": [
    "#### Example\n",
    "Here's a short english paragraph:\n",
    "if it's hot then drink water \n",
    "otherwise if it is cold wear a coat\n",
    "otherwise the weather is fine."
   ]
  },
  {
   "cell_type": "code",
   "execution_count": 215,
   "id": "7f097cbd-ebdd-498f-9d12-482476841356",
   "metadata": {},
   "outputs": [
    {
     "name": "stdout",
     "output_type": "stream",
     "text": [
      "drink water !\n"
     ]
    }
   ],
   "source": [
    "#Let's translate this english paragraph into python code:\n",
    "is_hot = True \n",
    "is_cold = False\n",
    "if is_hot:\n",
    "    print(\"drink water !\") \n",
    "elif is_cold:\n",
    "    print(\"wear a coat !\")\n",
    "else: \n",
    "    print(\"the weather is fine !\")"
   ]
  },
  {
   "cell_type": "markdown",
   "id": "aa1463c5-a2b6-4b5f-8640-cfe02e8fb1cc",
   "metadata": {},
   "source": [
    "# Exercise 1\n",
    "Write a program that checks if a number is positive, negative, or zero."
   ]
  },
  {
   "cell_type": "code",
   "execution_count": null,
   "id": "f60a799b-4120-4f78-9963-069f68f9b690",
   "metadata": {},
   "outputs": [],
   "source": [
    "#write your code here"
   ]
  },
  {
   "cell_type": "markdown",
   "id": "438507a4-d117-46a3-bfb4-55f6db79b5eb",
   "metadata": {},
   "source": [
    "# Exercice 2\n",
    "Implement a simple grading system: A (90-100), B (80-89), C (70-79), D (60-69), F (below 60)"
   ]
  },
  {
   "cell_type": "code",
   "execution_count": 231,
   "id": "4438fe5d-3d93-4eab-bb27-82dc1c86a1ba",
   "metadata": {},
   "outputs": [],
   "source": [
    "#write your code here"
   ]
  },
  {
   "cell_type": "markdown",
   "id": "cf4d2d8d-f12e-46e0-8ac0-7d7ffb0dea1b",
   "metadata": {},
   "source": [
    "# Exercise 3\n",
    "Write a program that takes a day number (1-7) and prints the corresponding day name (e.g., 1 for Saturday, 2 for Sunday)"
   ]
  },
  {
   "cell_type": "code",
   "execution_count": null,
   "id": "176e37e1-1b5b-4374-b714-d510c416cb1a",
   "metadata": {},
   "outputs": [],
   "source": [
    "#write your code here"
   ]
  },
  {
   "cell_type": "markdown",
   "id": "ee9889e8-3652-4f32-bff5-a666578ba52a",
   "metadata": {},
   "source": [
    "#### Use match-case instead of  if-elif-else\n",
    "Only possible for Python 3.10+"
   ]
  },
  {
   "cell_type": "code",
   "execution_count": null,
   "id": "4e6cc5cf-ecee-4cbd-9245-55339ef1f2b2",
   "metadata": {},
   "outputs": [],
   "source": [
    "#syntax:\n",
    "match expression:\n",
    "    case pattern1:\n",
    "        # Code to execute if expression matches pattern1\n",
    "    case pattern2:\n",
    "        # Code to execute if expression matches pattern2\n",
    "    case _:\n",
    "       # Code to execute if no other pattern matches (default case)"
   ]
  },
  {
   "cell_type": "code",
   "execution_count": 237,
   "id": "1659f0c5-e696-45e2-b3f9-43a5fbb093e3",
   "metadata": {},
   "outputs": [],
   "source": [
    "# rewrite exercise 3 using match-case"
   ]
  },
  {
   "cell_type": "markdown",
   "id": "f45b8a4e-7fad-4976-a275-1d4545b0d30f",
   "metadata": {},
   "source": [
    "#### Multiple conditions (logical operators)"
   ]
  },
  {
   "cell_type": "raw",
   "id": "fe9ec608-2eb9-4cdd-bd7a-a46045d112f4",
   "metadata": {},
   "source": [
    "#### Example of two conditions #######\n",
    "Today the temperature is 28°C and it's sunny.\n",
    "If the temperature is above 25°C and sunny, \n",
    "I will go to the beach. \n",
    "Otherwise, I will stay home and read a book."
   ]
  },
  {
   "cell_type": "code",
   "execution_count": 11,
   "id": "89357135-9c53-4112-84d9-7bdd86caf1b8",
   "metadata": {},
   "outputs": [
    {
     "name": "stdout",
     "output_type": "stream",
     "text": [
      "I'll go to the beach\n"
     ]
    }
   ],
   "source": [
    "# let's translate to python\n",
    "temperature =28\n",
    "is_sunny = True\n",
    "if temperature > 25 and is_sunny == True:\n",
    "    print(\"I'll go to the beach\")\n",
    "else:\n",
    "    print(\"I'll stay home and read a book.\")"
   ]
  },
  {
   "cell_type": "markdown",
   "id": "b7db76d1-1104-45c4-95e1-81f7738252c4",
   "metadata": {},
   "source": [
    "# Exercise 4\n",
    "Create a program that determines if a given year is a leap year. \n",
    "A year is called leap if it is divisible by 400 or if it is divisible by 4 but not by 100"
   ]
  },
  {
   "cell_type": "code",
   "execution_count": 251,
   "id": "ce3a2ca5-2b6a-45d7-96c3-52f313ecb38e",
   "metadata": {},
   "outputs": [],
   "source": [
    "#write you code here\n",
    "#for leap year try 2000, 2024\n",
    "#for non leap year try 1994, 1900"
   ]
  },
  {
   "cell_type": "markdown",
   "id": "590c3816-33e4-4fe2-acc8-ed5a2dd1869e",
   "metadata": {},
   "source": [
    "## Loops"
   ]
  },
  {
   "cell_type": "markdown",
   "id": "a457202c-28eb-4489-b7a6-2a57ae6fc3e9",
   "metadata": {},
   "source": [
    "#### while loop"
   ]
  },
  {
   "cell_type": "code",
   "execution_count": null,
   "id": "565f5ebd-cf8e-4195-a88b-b8541a8df6a1",
   "metadata": {},
   "outputs": [],
   "source": [
    "# While loop syntax\n",
    "while condition:\n",
    "    #block of code that will be executed multiple times while the condition is still true"
   ]
  },
  {
   "cell_type": "markdown",
   "id": "45faf92d-9dbb-456e-b8fe-2a919cabb609",
   "metadata": {},
   "source": [
    "#### Example 1:\n",
    "Count and print numbers from 1 to 10"
   ]
  },
  {
   "cell_type": "code",
   "execution_count": null,
   "id": "193cfcdc-cf7d-4616-8f0f-7855241e03ad",
   "metadata": {},
   "outputs": [],
   "source": [
    "counter = 1\n",
    "while counter <= 10:\n",
    "    print(f\"Count: {counter}\")\n",
    "    counter = counter + 1  # Don't forget to update the condition to avoid infinite loop!\n",
    "\n",
    "print(\"Loop finished!\")"
   ]
  },
  {
   "cell_type": "markdown",
   "id": "e9ceaea4-e1ca-4a0a-99a0-704be9d660ff",
   "metadata": {},
   "source": [
    "#### Example 2:\n",
    "Display a triangle on the screen"
   ]
  },
  {
   "cell_type": "code",
   "execution_count": null,
   "id": "64292bd7-842c-425d-bee3-34c3ccc85a31",
   "metadata": {},
   "outputs": [],
   "source": [
    "i = 1\n",
    "while i <= 10:\n",
    "    print(\"*\" *i)\n",
    "    i = i + 1 "
   ]
  },
  {
   "cell_type": "markdown",
   "id": "aa2ff8bf-e790-4140-9c02-a2b7033a0ece",
   "metadata": {},
   "source": [
    "# Exercise 5\n",
    "Receive integers from the user until he enter 0, then calculate and print the average of the entered numbers (excluding 0)."
   ]
  },
  {
   "cell_type": "code",
   "execution_count": 259,
   "id": "ae0fb7fd-bed0-46dc-aaaf-7096713a81e6",
   "metadata": {},
   "outputs": [],
   "source": [
    "#write you code here"
   ]
  },
  {
   "cell_type": "markdown",
   "id": "38329e0a-ec17-4899-8d0d-93c4bb4da3ff",
   "metadata": {},
   "source": [
    "#### for loop\n",
    "to iterate over items of a collection (group of value)"
   ]
  },
  {
   "cell_type": "code",
   "execution_count": null,
   "id": "a76fd247-c103-457e-90e0-8d283c6a0749",
   "metadata": {},
   "outputs": [],
   "source": [
    "# syntax\n",
    "for <Variable> in <groupe of values>:\n",
    "    Instructions"
   ]
  },
  {
   "cell_type": "markdown",
   "id": "a8af1486-8bfb-46f5-b507-5f57743f95fa",
   "metadata": {},
   "source": [
    "#### Example iterate over a string (a collection of characters)"
   ]
  },
  {
   "cell_type": "code",
   "execution_count": null,
   "id": "44a8d192-4749-4bb1-acfc-eaf571291ffb",
   "metadata": {},
   "outputs": [],
   "source": [
    "for i in \"Python\":\n",
    "    print(i)"
   ]
  },
  {
   "cell_type": "markdown",
   "id": "9dd41325-a7d0-4929-8110-cb26d06840cd",
   "metadata": {},
   "source": [
    "#### Example iterate over a list (a collection of items)"
   ]
  },
  {
   "cell_type": "code",
   "execution_count": null,
   "id": "38811156-5193-464a-8a32-57e2a57dbe0a",
   "metadata": {},
   "outputs": [],
   "source": [
    "for i in [\"fruit\", \"vegetable\", \"water\", \"meat\"]:\n",
    "    print(i)"
   ]
  },
  {
   "cell_type": "markdown",
   "id": "93acdc03-09ce-478a-beda-b36e5fc465d3",
   "metadata": {},
   "source": [
    "#### Example iterate over a list of numbers"
   ]
  },
  {
   "cell_type": "code",
   "execution_count": null,
   "id": "fe5bd024-34dd-45ee-ac89-1cf0086d5b66",
   "metadata": {},
   "outputs": [],
   "source": [
    "for i in [1, 2, 3, 4]:\n",
    "    print(i)"
   ]
  },
  {
   "cell_type": "markdown",
   "id": "ed50c30f-0303-4c37-a2aa-db28750de216",
   "metadata": {},
   "source": [
    "#### Range funtion"
   ]
  },
  {
   "cell_type": "code",
   "execution_count": null,
   "id": "4a8a3a90-cdf9-4261-9f41-70252bccb3bd",
   "metadata": {},
   "outputs": [],
   "source": [
    "for i in range(10):\n",
    "    print(i, end=' ')\n",
    "# interval range\n",
    "#step"
   ]
  },
  {
   "cell_type": "markdown",
   "id": "05377a7b-0183-4939-bf17-0c33ecbf0f7d",
   "metadata": {},
   "source": [
    "# Exercise 6\n",
    "Calculate the sum of all numbers from 1 to 100"
   ]
  },
  {
   "cell_type": "code",
   "execution_count": 298,
   "id": "e7765352-a9a5-4959-a84a-a46d66fc35f4",
   "metadata": {},
   "outputs": [],
   "source": [
    "#write your code here"
   ]
  },
  {
   "cell_type": "markdown",
   "id": "e760a60c-c184-415e-a42a-93904deab473",
   "metadata": {},
   "source": [
    "# Exercise 7\n",
    "Calculate the multiplication table of the number 9"
   ]
  },
  {
   "cell_type": "code",
   "execution_count": 307,
   "id": "f80268b2-2ec5-4b43-bde6-a0cdd0cd77c7",
   "metadata": {},
   "outputs": [],
   "source": [
    "#write your code here"
   ]
  },
  {
   "cell_type": "markdown",
   "id": "c63ad0aa-3120-4dae-80fe-2ece1c396e87",
   "metadata": {},
   "source": [
    "#### Loop control statements (break and continue)"
   ]
  },
  {
   "cell_type": "markdown",
   "id": "90ffea64-7358-4ea1-aa18-bdbad8b2049c",
   "metadata": {},
   "source": [
    "#### Example 1\n",
    "Implement a guessing number game. \n",
    "Example : let's consider 8 as the mystery number, the user has three chances to find it. If he guesses correctly, the game displays the message \"Congratulations! the secret number is ...\" otherwise print the following message \"Game Over\""
   ]
  },
  {
   "cell_type": "code",
   "execution_count": null,
   "id": "106128e0-4aec-4c05-a20f-891b78a56f22",
   "metadata": {},
   "outputs": [],
   "source": []
  },
  {
   "cell_type": "markdown",
   "id": "a8ca9500-e1c2-48ee-94d3-e36cfff53b5f",
   "metadata": {},
   "source": [
    "#### Example 2\n",
    "Display numbers from 1 to 20 except for multiple of 3 or multiple of 5"
   ]
  },
  {
   "cell_type": "code",
   "execution_count": null,
   "id": "92a1657f-eb5e-4277-93f6-6f9a710af932",
   "metadata": {},
   "outputs": [],
   "source": [
    "for i in range (1,21):\n",
    "    if i%3 ==0 or i%5 ==0:\n",
    "        continue\n",
    "    print(i, end=\" \")"
   ]
  },
  {
   "cell_type": "markdown",
   "id": "0d090fc9-25a1-4af5-ac59-ed3880e04f41",
   "metadata": {},
   "source": [
    "# Exercise 8\n",
    "Find the first prime number greater than 100 using loops and break."
   ]
  },
  {
   "cell_type": "code",
   "execution_count": null,
   "id": "153f13be-50f9-4714-ad49-84140ca22629",
   "metadata": {},
   "outputs": [],
   "source": [
    "#write your code here"
   ]
  },
  {
   "cell_type": "markdown",
   "id": "65ef48e7-bda7-4d1f-ba3e-d4ca2441926c",
   "metadata": {},
   "source": [
    "# Exercise 9\n",
    "Print all numbers from 1 to 20, except for multiples of 3, using continue."
   ]
  },
  {
   "cell_type": "code",
   "execution_count": null,
   "id": "c02b91f7-2d0b-416d-80bf-98f55f0d439e",
   "metadata": {},
   "outputs": [],
   "source": [
    "#write your code here"
   ]
  },
  {
   "cell_type": "markdown",
   "id": "c76e9db6-527c-4988-8c17-944dc386f848",
   "metadata": {},
   "source": [
    "#### do...while loop\n",
    "There is no do...while loop in python but it can be simulated use a while(true) and break"
   ]
  },
  {
   "cell_type": "markdown",
   "id": "0fdb5027-6624-4276-9ee2-5cbbf63c26b2",
   "metadata": {},
   "source": [
    "# Exercise 10\n",
    "Use a do-while like loop to repeatedly ask the user for a number until he enter a positive value. If the user reads a positive number, we leave the loop and display a message confirming the read of a positive value"
   ]
  },
  {
   "cell_type": "code",
   "execution_count": 360,
   "id": "36fd4560-f39f-4e98-b50c-e0ba0340f36e",
   "metadata": {},
   "outputs": [],
   "source": [
    "#write your code here"
   ]
  },
  {
   "cell_type": "markdown",
   "id": "6b2b6912-e1a0-4ff1-a719-97171987f228",
   "metadata": {},
   "source": [
    "# Exercise 11\n",
    "Print the following pattern (Diamond):"
   ]
  },
  {
   "cell_type": "code",
   "execution_count": null,
   "id": "76b2c976-db80-4474-941e-e12394030920",
   "metadata": {},
   "outputs": [],
   "source": [
    "#   *\n",
    "#  ***\n",
    "# *****\n",
    "#*******\n",
    "# *****\n",
    "#  ***\n",
    "#   *"
   ]
  },
  {
   "cell_type": "code",
   "execution_count": null,
   "id": "d24389fa-c3a0-40ad-8ba8-f2faa112204a",
   "metadata": {},
   "outputs": [],
   "source": [
    "#write your code here"
   ]
  }
 ],
 "metadata": {
  "kernelspec": {
   "display_name": "Python [conda env:base] *",
   "language": "python",
   "name": "conda-base-py"
  },
  "language_info": {
   "codemirror_mode": {
    "name": "ipython",
    "version": 3
   },
   "file_extension": ".py",
   "mimetype": "text/x-python",
   "name": "python",
   "nbconvert_exporter": "python",
   "pygments_lexer": "ipython3",
   "version": "3.12.7"
  }
 },
 "nbformat": 4,
 "nbformat_minor": 5
}
