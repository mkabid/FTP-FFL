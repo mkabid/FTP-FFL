{
 "cells": [
  {
   "cell_type": "markdown",
   "id": "b9edb31d-b42d-4bb2-808e-6d63575a8d4e",
   "metadata": {},
   "source": [
    "# Complex Data Structures in Python\n",
    "Welcome to this third part of introduction to python. We'll cover complex data structures including, lists, arrays, tuples and dictinnaries."
   ]
  },
  {
   "cell_type": "markdown",
   "id": "3acdda3a-837c-47f1-baec-e3ebd948dbe7",
   "metadata": {},
   "source": [
    "## Lists\n",
    "Definition: A list is an ordered, mutable collection of items.\n",
    "###  Characteristics:\n",
    "- Ordered: Items maintain their position\n",
    "- Mutable: Can change, add, or remove items\n",
    "- Allows duplicates\n",
    "- Indexed (starts at 0)\n",
    "- Can contain mixed data types"
   ]
  },
  {
   "cell_type": "code",
   "execution_count": 1,
   "id": "6950ccfe-1585-42b6-a10a-39e376532d70",
   "metadata": {},
   "outputs": [
    {
     "name": "stdout",
     "output_type": "stream",
     "text": [
      "Empty: []\n",
      "From range: [0, 1, 2, 3, 4]\n",
      "From string: ['h', 'e', 'l', 'l', 'o']\n"
     ]
    },
    {
     "data": {
      "text/plain": [
       "list"
      ]
     },
     "execution_count": 1,
     "metadata": {},
     "output_type": "execute_result"
    }
   ],
   "source": [
    "# Creating lists\n",
    "empty_list = []\n",
    "from_range = list(range(5))\n",
    "from_string = list(\"hello\")\n",
    "\n",
    "print(\"Empty:\", empty_list)\n",
    "print(\"From range:\", from_range)\n",
    "print(\"From string:\", from_string)\n",
    "type(empty_list)"
   ]
  },
  {
   "cell_type": "markdown",
   "id": "832b2d88-2385-41a4-9b78-d825ae8ee848",
   "metadata": {},
   "source": [
    "#### Exercise 1\n",
    "Create a list called fruits containing \"apple\", \"banana\", \"cherry\", \"date\", \"orange\", \"mango\", \"pears\".\n",
    "- Print the entire fruits list.\n",
    "- Access and print the first element.\n",
    "- Access and print the last element.\n",
    "- Access and print \"orange\" using its index.\n",
    "- Try to access an element at an invalid index and observe the error"
   ]
  },
  {
   "cell_type": "code",
   "execution_count": 19,
   "id": "7ce8a6d8-9ffb-4b1c-a677-4e62b74cd7a5",
   "metadata": {},
   "outputs": [
    {
     "name": "stdout",
     "output_type": "stream",
     "text": [
      "apple\n",
      "pears\n",
      "orange\n"
     ]
    },
    {
     "ename": "IndexError",
     "evalue": "list index out of range",
     "output_type": "error",
     "traceback": [
      "\u001b[1;31m---------------------------------------------------------------------------\u001b[0m",
      "\u001b[1;31mIndexError\u001b[0m                                Traceback (most recent call last)",
      "Cell \u001b[1;32mIn[19], line 8\u001b[0m\n\u001b[0;32m      6\u001b[0m \u001b[38;5;28mprint\u001b[39m(fruits[\u001b[38;5;241m-\u001b[39m\u001b[38;5;241m1\u001b[39m])\n\u001b[0;32m      7\u001b[0m \u001b[38;5;28mprint\u001b[39m(fruits[\u001b[38;5;241m4\u001b[39m])\n\u001b[1;32m----> 8\u001b[0m fruits[\u001b[38;5;241m7\u001b[39m]\n",
      "\u001b[1;31mIndexError\u001b[0m: list index out of range"
     ]
    }
   ],
   "source": [
    "# write your code here\n",
    "fruits = [\"apple\", \"banana\", \"cherry\", \"date\", \"orange\", \"mango\", \"pears\"]\n",
    "#for fruit in fruits:\n",
    "#   print(fruit, end=' ')\n",
    "print(fruits[0])\n",
    "print(fruits[-1])\n",
    "print(fruits[4])\n",
    "fruits[7]"
   ]
  },
  {
   "cell_type": "markdown",
   "id": "c78874b6-c505-497a-8eb5-9ac6927793cb",
   "metadata": {},
   "source": [
    "#### Slicing\n",
    "Goal: built a new list from the orginal one"
   ]
  },
  {
   "cell_type": "code",
   "execution_count": 39,
   "id": "2bffdac2-cb82-497b-a44d-42aa956e87fb",
   "metadata": {},
   "outputs": [
    {
     "name": "stdout",
     "output_type": "stream",
     "text": [
      "['cherry', 'date', 'orange', 'mango', 'pears']\n",
      "['cherry', 'date']\n",
      "['orange', 'mango', 'pears']\n",
      "7\n"
     ]
    }
   ],
   "source": [
    "# example from exercise 1\n",
    "#build a list starting from the third element\n",
    "print(fruits[2:7])\n",
    "#build a list containing only the third and the fourth elements\n",
    "print(fruits[2:4])\n",
    "#print the original list\n",
    "print(fruits[4:])\n",
    "print(len(fruits)-1)"
   ]
  },
  {
   "cell_type": "markdown",
   "id": "800db633-b740-4863-a268-e19fa682a368",
   "metadata": {},
   "source": [
    "#### List Modification\n",
    "Common list methods for modification:\n",
    "\n",
    "list.append(x): Add item at the end of the list.\n",
    "\n",
    "list.insert(i, x): Insert an item at a given position.\n",
    "\n",
    "list.remove(x): Removes the first item from the list with value x\n",
    "\n",
    "list.pop(i): Remove item at position I and return it. If no index I is given then remove the first item in the list.\n",
    "\n",
    "list.index(x): Return the index in the list of the first item with value x.\n",
    "\n",
    "list.count(x): Return the number of time x appears in the list\n",
    "\n",
    "list.sort(): Sorts items in the list in ascending order\n",
    "\n",
    "list.reverse(): Reverses items in the list"
   ]
  },
  {
   "cell_type": "markdown",
   "id": "68be324b-179c-4aa4-8ae4-6b4cc8192ccd",
   "metadata": {},
   "source": [
    "#### Exercise 2\n",
    "Given the list small_numbers defined as follows :\n",
    "small_numbers = [10,20,30,40,50]\n",
    "- Change the value of the second element to 25.\n",
    "- Add 60 to the end of the list.\n",
    "- Insert 5 at the beginning of the list.\n",
    "- Remove 30 from the list.\n",
    "- Print the list after each operation.\n",
    "- Create the list of numbers as follows : large_numbers = [100,200,300,400,500]\n",
    "- Concatenate small_numbers and large_numbers into a new list combined_list. Print it.\n",
    "- Check if 30 is present in combined_list. Print the boolean result.\n",
    "- Find the length of combined_list.\n",
    "- Sort combined_list in descending order. Print it."
   ]
  },
  {
   "cell_type": "code",
   "execution_count": 79,
   "id": "73388794-5330-4a5f-9c3f-89fb6f0d341d",
   "metadata": {},
   "outputs": [
    {
     "name": "stdout",
     "output_type": "stream",
     "text": [
      "before [10, 20, 30, 40, 30, 50]\n",
      "after [5, 10, 25, 40, 30, 50, 60]\n",
      "True\n",
      "[5, 10, 25, 40, 30, 50, 60, 100, 200, 300, 400, 500]\n",
      "[500, 400, 300, 200, 100, 60, 50, 40, 30, 25, 10, 5]\n"
     ]
    }
   ],
   "source": [
    "# write your code here\n",
    "small_numbers = [10,20,30,40,30,50]\n",
    "print(\"before\",small_numbers)\n",
    "small_numbers[1]=25\n",
    "small_numbers.append(60)\n",
    "small_numbers.insert(0,5)\n",
    "small_numbers.remove(30)\n",
    "print(\"after\",small_numbers)\n",
    "large_numbers = [100,200,300,400,500]\n",
    "combined_list = small_numbers+large_numbers\n",
    "#is_30_present=30 in combined_list\n",
    "print(30 in combined_list)\n",
    "print(combined_list)\n",
    "len(combined_list)\n",
    "combined_list.sort(reverse=True)\n",
    "#combined_list.reverse()\n",
    "print(combined_list)"
   ]
  },
  {
   "cell_type": "markdown",
   "id": "b661e1d4-ea17-430d-b666-d3e7dd6027fa",
   "metadata": {},
   "source": [
    "## Arrays\n",
    "Arrays are similar to lists but Arrays  used to store multiple values having the same type.\n",
    "### Characteristics\n",
    "- Homogeneous, numerical, efficient for math\n",
    "- Use for mathematical operations, large numerical datasets\n",
    "Arrays are a part of the Python NumPy library."
   ]
  },
  {
   "cell_type": "code",
   "execution_count": 81,
   "id": "c461b959-b724-466c-b3de-f64e0d116a43",
   "metadata": {},
   "outputs": [
    {
     "name": "stdout",
     "output_type": "stream",
     "text": [
      "[1 2 3 4 5]\n",
      "Type: <class 'numpy.ndarray'>\n",
      "\n",
      "Array math: [ 3  5  7  9 11]\n"
     ]
    }
   ],
   "source": [
    "# Example: \n",
    "import numpy as np\n",
    "# 1D NumPy array\n",
    "np_1d = np.array([1, 2, 3, 4, 5])\n",
    "print(np_1d)\n",
    "print(\"Type:\", type(np_1d))\n",
    "# Array operations (much faster than lists)\n",
    "result = np_1d * 2 + 1\n",
    "print(\"\\nArray math:\", result)"
   ]
  },
  {
   "cell_type": "markdown",
   "id": "4a579eb3-0c20-407d-a358-511889e46f12",
   "metadata": {},
   "source": [
    "### 1D Array"
   ]
  },
  {
   "cell_type": "code",
   "execution_count": 83,
   "id": "ef89dab7-ca2a-456b-93d0-1e23726fb162",
   "metadata": {},
   "outputs": [
    {
     "name": "stdout",
     "output_type": "stream",
     "text": [
      "[ 0  1  2  3  4  5  6  7  8  9 10 11 12 13 14]\n",
      "[2.  2.1 2.2 2.3 2.4 2.5 2.6 2.7 2.8 2.9]\n",
      "[0. 0. 0. 0. 0. 0. 0. 0.]\n",
      "[1. 1. 1. 1. 1. 1. 1. 1.]\n"
     ]
    }
   ],
   "source": [
    "#Creation of special arrays\n",
    "arr1=np.arange(15) # Create an array starting from 0 to 15 (15 not included)\n",
    "print(arr1)\n",
    "arr2=np.arange(2, 3, 0.1) # Create an array of floats between 2 (inclusive) and 3 (exclusive) by a steps 0.1\n",
    "print(arr2)\n",
    "arr3=np.zeros(8)\n",
    "print(arr3)\n",
    "arr4=np.ones(8)\n",
    "print(arr4)"
   ]
  },
  {
   "cell_type": "markdown",
   "id": "8404c741-8656-4d2c-9063-f0870bcd12b8",
   "metadata": {},
   "source": [
    "#### Exercise 3\n",
    "Create a 1D array (list) called temperatures with values [22.5, 24.1, 23.8, 25.0, 21.9].\n",
    "- Iterate through temperatures and print each value.\n",
    "- Find and print the maximum temperature.\n",
    "- Calculate and print the average temperature"
   ]
  },
  {
   "cell_type": "code",
   "execution_count": 91,
   "id": "088aeb3b-4267-4ee9-8a14-886a1eb8eafb",
   "metadata": {},
   "outputs": [
    {
     "name": "stdout",
     "output_type": "stream",
     "text": [
      "22.5\n",
      "24.1\n",
      "23.8\n",
      "25.0\n",
      "21.9\n",
      " the max. temperature is 25.0\n",
      " the avg. temperature is 23.46\n"
     ]
    }
   ],
   "source": [
    "# write your code here\n",
    "temperatures = np.array([22.5, 24.1, 23.8, 25.0, 21.9])\n",
    "for temp in temperatures:\n",
    "    print(temp)\n",
    "print(f\" the max. temperature is {temperatures.max()}\")\n",
    "print(f\" the avg. temperature is {temperatures.mean()}\")"
   ]
  },
  {
   "cell_type": "markdown",
   "id": "10a93db1-feef-4465-9bb0-0a27cbb24076",
   "metadata": {},
   "source": [
    "#### Exercise 4\n",
    "Given the following array : student_scores = [85,92,78,95,88]\n",
    "- Ask the user to enter a score to search for. If found, print its index; otherwise, print the message \"Score not found.\"\n",
    "- Update the score of the third student (index 2) to 80. Print the updated student_scores."
   ]
  },
  {
   "cell_type": "code",
   "execution_count": 108,
   "id": "0d9cef69-44ff-4689-a5e3-acdd47f6d00b",
   "metadata": {},
   "outputs": [
    {
     "name": "stdin",
     "output_type": "stream",
     "text": [
      "please enter a score 78\n"
     ]
    },
    {
     "name": "stdout",
     "output_type": "stream",
     "text": [
      "index [2 5]\n"
     ]
    }
   ],
   "source": [
    "# write your code here\n",
    "student_scores = np.array([85,92,78,95,88,78])\n",
    "score=int(input(\"please enter a score\"))\n",
    "indices=np.where(student_scores == score)[0]\n",
    "if len(indices)!=0:\n",
    "    print(\"index\",indices[0])\n",
    "else:\n",
    "    print(\"score not found\")"
   ]
  },
  {
   "cell_type": "markdown",
   "id": "b6f96013-308c-4625-b9f4-7a62db094d05",
   "metadata": {},
   "source": [
    "#### Exercise 5\n",
    "Create a 1D array called : data_points = [10,15,20,25,30,35]\n",
    "- Calculate the sum of all data points.\n",
    "- Count how many data points are greater than 20"
   ]
  },
  {
   "cell_type": "code",
   "execution_count": null,
   "id": "123089c4-7de5-4c1b-bbe9-6fd600af106a",
   "metadata": {},
   "outputs": [],
   "source": [
    "# write your code here\n",
    "#HOMEWORK TWO VERSIONS / 1ST VERSION LIST : 2ND WITH NUMPY ARRAYS"
   ]
  },
  {
   "cell_type": "markdown",
   "id": "2cd6308e-547f-4312-b447-d11804917fc2",
   "metadata": {},
   "source": [
    "### 2D Array"
   ]
  },
  {
   "cell_type": "code",
   "execution_count": 110,
   "id": "0b64dbb6-232c-4410-8853-0f3431227e71",
   "metadata": {},
   "outputs": [
    {
     "name": "stdout",
     "output_type": "stream",
     "text": [
      "[[1 2 3]\n",
      " [4 5 6]\n",
      " [7 8 9]]\n",
      "Shape: (3, 3)\n",
      "<class 'numpy.ndarray'>\n"
     ]
    }
   ],
   "source": [
    "# Exemple of 2D NumPy array\n",
    "np_2d = np.array([[1, 2, 3], \n",
    "                  [4, 5, 6], \n",
    "                  [7, 8, 9]])\n",
    "print(np_2d)\n",
    "print(\"Shape:\", np_2d.shape) # Matrix dimensions\n",
    "print(type(np_2d))"
   ]
  },
  {
   "cell_type": "code",
   "execution_count": 112,
   "id": "ed28e9f8-d526-482b-a3de-04744da7a969",
   "metadata": {},
   "outputs": [
    {
     "name": "stdout",
     "output_type": "stream",
     "text": [
      "[[1 2 3]\n",
      " [4 5 6]]\n",
      "[[0. 0.]\n",
      " [0. 0.]\n",
      " [0. 0.]\n",
      " [0. 0.]\n",
      " [0. 0.]\n",
      " [0. 0.]]\n",
      "[[1. 1. 1.]\n",
      " [1. 1. 1.]]\n"
     ]
    }
   ],
   "source": [
    "# matrix creation\n",
    "m = np.array([[1, 2, 3],[4, 5, 6]])\n",
    "print(m)\n",
    "m1=np.zeros((6, 2)) # a matrix of zeros\n",
    "print(m1)\n",
    "m2=np.ones((2, 3)) # Define matrix of ones (1)\n",
    "print(m2)"
   ]
  },
  {
   "cell_type": "markdown",
   "id": "6d85b140-2643-4316-8a72-ee480d255715",
   "metadata": {},
   "source": [
    "#### Exercise 6\n",
    "Create a 2D array (nested list) called matrix representing:\n",
    "[[1,2,3],\n",
    " [4,5,6],\n",
    " [7,8,9]]\n",
    "- Print the entire matrix.\n",
    "- Access and print the element at row 0, column 1 (should be 2).\n",
    "- Access and print the element at row 2, column 2 (should be 9).\n",
    "- Iterate through matrix and print each element row by row."
   ]
  },
  {
   "cell_type": "code",
   "execution_count": 127,
   "id": "fc986f8c-58e1-45cd-9732-a3258c48dba4",
   "metadata": {},
   "outputs": [
    {
     "name": "stdout",
     "output_type": "stream",
     "text": [
      "[[1 2 3]\n",
      " [4 5 6]\n",
      " [7 8 9]]\n",
      "2\n",
      "9\n",
      "1 2 3 \n",
      "4 5 6 \n",
      "7 8 9 \n"
     ]
    }
   ],
   "source": [
    "# write your code here\n",
    "matrix = np.array([[1,2,3], [4,5,6], [7,8,9]])\n",
    "print(matrix)\n",
    "print(matrix[0][1])\n",
    "print(matrix[2][2])\n",
    "for row in matrix:\n",
    "    for element in row:\n",
    "        print(element, end=' ')\n",
    "    print()"
   ]
  },
  {
   "cell_type": "markdown",
   "id": "5c0d1687-a1f5-42ae-a7bd-3e4628ea59e9",
   "metadata": {},
   "source": [
    "#### Exercise 7 (Matrix)\n",
    "Given matrix_a = [[1, 2], [3, 4]] and matrix_b = [[5, 6], [7, 8]]\n",
    "- Create a new result_matrix of the same dimensions, initialized with zeros.\n",
    "- Perform element-wise addition of matrix_a and matrix_b, storing the results in result_matrix. Print result_matrix."
   ]
  },
  {
   "cell_type": "code",
   "execution_count": null,
   "id": "08692fcc-f10b-4c9f-9a97-ee44510f509e",
   "metadata": {},
   "outputs": [],
   "source": [
    "# write your code here\n",
    "#HOMEWORK"
   ]
  },
  {
   "cell_type": "markdown",
   "id": "b7f0284c-eb39-4654-b4de-b9bb57fed61a",
   "metadata": {},
   "source": [
    "## Tuples\n",
    "Tuple looks like a list but is immutable \n",
    "### Characteristics\n",
    "- immutable : cannot be changed after creation\n",
    "-  allows duplicate elements\n",
    "-   heterogeneous data."
   ]
  },
  {
   "cell_type": "code",
   "execution_count": 132,
   "id": "c0af5192-987f-489e-ba4f-8d286cda7522",
   "metadata": {},
   "outputs": [
    {
     "name": "stdout",
     "output_type": "stream",
     "text": [
      "()\n",
      "(4,)\n",
      "(True, 3.4, 18)\n",
      "(4,)\n"
     ]
    },
    {
     "data": {
      "text/plain": [
       "tuple"
      ]
     },
     "execution_count": 132,
     "metadata": {},
     "output_type": "execute_result"
    }
   ],
   "source": [
    "# Syntax\n",
    "t1=() #empty tuple\n",
    "print(t1)\n",
    "t2=(4,)  #note the comma to differiante tuples from int\n",
    "print(t2)\n",
    "t3=True, 3.4, 18 # parenthesis are optional\n",
    "print(t3)\n",
    "t4=4, #note the comma to differiante tuples from int\n",
    "print(t4)\n",
    "type(t4)"
   ]
  },
  {
   "cell_type": "code",
   "execution_count": 134,
   "id": "3e6445e2-9b30-4c2d-937d-a3d7c1e85d25",
   "metadata": {},
   "outputs": [
    {
     "name": "stdout",
     "output_type": "stream",
     "text": [
      "Empty: ()\n",
      "From list: (1, 2, 3)\n",
      "Packing: (1, 2, 3)\n"
     ]
    }
   ],
   "source": [
    "# Creating tuples\n",
    "empty_tuple = ()\n",
    "from_list = tuple([1, 2, 3])\n",
    "packing = 1, 2, 3  # Parentheses optional\n",
    "\n",
    "print(\"Empty:\", empty_tuple)\n",
    "print(\"From list:\", from_list)\n",
    "print(\"Packing:\", packing)"
   ]
  },
  {
   "cell_type": "code",
   "execution_count": 136,
   "id": "a1d7d37c-dd10-4f6a-a5c1-fb54a52bdf04",
   "metadata": {},
   "outputs": [
    {
     "name": "stdout",
     "output_type": "stream",
     "text": [
      "Name: Alice\n",
      "Age: 25\n",
      "Slice: ('Alice', 25)\n",
      "Unpacked: Alice 25 Engineer\n"
     ]
    }
   ],
   "source": [
    "# Access and operations\n",
    "person = (\"Alice\", 25, \"Engineer\")\n",
    "\n",
    "print(\"Name:\", person[0])\n",
    "print(\"Age:\", person[1])\n",
    "print(\"Slice:\", person[:2])\n",
    "\n",
    "# Tuple unpacking\n",
    "\n",
    "name, age, profession = person\n",
    "print(\"Unpacked:\", name, age, profession)"
   ]
  },
  {
   "cell_type": "markdown",
   "id": "e1b18971-fbbe-45dd-a990-ccc9e2f02a9f",
   "metadata": {},
   "source": [
    "#### Exercise 8\n",
    "Create a tuple called coordinates with values (10.5, 20.3).\n",
    "- Print the entire coordinates tuple.\n",
    "- Access and print the x-coordinate.\n",
    "- Access and print the y-coordinate.\n",
    "- Challenge: Try to change an element in coordinates and observe the error."
   ]
  },
  {
   "cell_type": "code",
   "execution_count": 143,
   "id": "b16f34ca-4386-4bdc-aae9-cc9affe2d6ae",
   "metadata": {},
   "outputs": [
    {
     "name": "stdout",
     "output_type": "stream",
     "text": [
      "x_coordinate  10.5\n"
     ]
    }
   ],
   "source": [
    "# write your code here\n",
    "coordinates=(10.5, 20.3)\n",
    "x,y=coordinates\n",
    "print(\"x_coordinate \",x)\n",
    "#coordinates[0]=10.3"
   ]
  },
  {
   "cell_type": "markdown",
   "id": "65db4fda-6fec-48a7-b237-e5493d14ca5a",
   "metadata": {},
   "source": [
    "#### Exercise 9\n",
    "Given a list of tuples students = [(\"Bob\", 85), (\"Charlie\", 92), (\"David\", 78)].\n",
    "- Iterate through students and print each student's name and score in a formatted string (e.g., \"Bob scored 85\")."
   ]
  },
  {
   "cell_type": "code",
   "execution_count": 145,
   "id": "3f9de23f-bc44-4d23-91d9-379bbb5f2ea9",
   "metadata": {},
   "outputs": [
    {
     "name": "stdout",
     "output_type": "stream",
     "text": [
      "Bob scored 85\n",
      "Charlie scored 92\n",
      "David scored 78\n"
     ]
    }
   ],
   "source": [
    "# write your code here\n",
    "students = [(\"Bob\", 85), (\"Charlie\", 92), (\"David\", 78)]\n",
    "for student in students:\n",
    "    print(f\"{student[0]} scored {student[1]}\")"
   ]
  },
  {
   "cell_type": "markdown",
   "id": "995a967d-d9c9-4db6-b3fb-c343d088d29f",
   "metadata": {},
   "source": [
    "### Unpacking"
   ]
  },
  {
   "cell_type": "markdown",
   "id": "1db7da3d-3ba0-49d4-b2e1-46496d3311fc",
   "metadata": {},
   "source": [
    "#### Exercise 10\n",
    "Create a tuple person_info = (\"Alice\", 30, \"New York\").\n",
    "- Unpack person_info into three variables: name, age, city. Print each variable."
   ]
  },
  {
   "cell_type": "code",
   "execution_count": null,
   "id": "3f698fb0-a3d7-4735-a909-561fd889f2a4",
   "metadata": {},
   "outputs": [],
   "source": [
    "# write your code here\n",
    "#HOMEWORK"
   ]
  },
  {
   "cell_type": "markdown",
   "id": "5b0256cc-eab5-4647-ae4f-1f131e071b54",
   "metadata": {},
   "source": [
    "#### Exercise 11\n",
    "Create a function get_min_max(numbers) that takes a list of numbers and returns a tuple containing the minimum and maximum values. Test it with [5, 1, 9, 2, 7]."
   ]
  },
  {
   "cell_type": "code",
   "execution_count": 153,
   "id": "9cb4b33a-0c85-4aef-83cd-cc6d3db19124",
   "metadata": {},
   "outputs": [
    {
     "data": {
      "text/plain": [
       "(9, 1)"
      ]
     },
     "execution_count": 153,
     "metadata": {},
     "output_type": "execute_result"
    }
   ],
   "source": [
    "# write your code here\n",
    "def get_min_max(numbers):\n",
    "    minimum=min(numbers)\n",
    "    maximum=max(numbers)\n",
    "    return (maximum,minimum)\n",
    "get_min_max([5, 1, 9, 2, 7])"
   ]
  },
  {
   "cell_type": "markdown",
   "id": "148eed04-1aa4-4eff-b0ec-054fdb7e44d1",
   "metadata": {},
   "source": [
    "## Dictionaries\n",
    "Unordered (in older Python versions, ordered from 3.7+), mutable, stores data in key-value pairs, keys must be unique and immutable, values can be any data type.\n",
    "### Characteristics:\n",
    "- Unordered (until Python 3.7+, now insertion ordered)\n",
    "- Mutable: Can change, add, remove key-value pairs\n",
    "- Keys must be unique and immutable\n",
    "- Fast lookups by key"
   ]
  },
  {
   "cell_type": "code",
   "execution_count": 156,
   "id": "505d760b-b0c7-4214-99bf-c4b242b80740",
   "metadata": {},
   "outputs": [
    {
     "name": "stdout",
     "output_type": "stream",
     "text": [
      "{'France': 'Paris', 'Germany': 'Berlin', 'Italy': 'Rome'}\n",
      "{'name': 'Bob', 'age': 30, 'city': 'New York'}\n",
      "{}\n"
     ]
    },
    {
     "data": {
      "text/plain": [
       "dict"
      ]
     },
     "execution_count": 156,
     "metadata": {},
     "output_type": "execute_result"
    }
   ],
   "source": [
    "# Creating dictionaries\n",
    "capitals = {\n",
    "    \"France\": \"Paris\",\n",
    "    \"Germany\": \"Berlin\", \n",
    "    \"Italy\": \"Rome\"\n",
    "}\n",
    "person = {\"name\": \"Bob\", \"age\": 30, \"city\": \"New York\"}\n",
    "\n",
    "empty_dict = {}\n",
    "\n",
    "print(capitals)\n",
    "print(person)\n",
    "print(empty_dict)\n",
    "type(empty_dict)"
   ]
  },
  {
   "cell_type": "code",
   "execution_count": 160,
   "id": "3cb7c3e5-520f-4d02-b6a2-1afb514e353e",
   "metadata": {},
   "outputs": [
    {
     "name": "stdout",
     "output_type": "stream",
     "text": [
      "Name: Bob\n",
      "Age: 30\n"
     ]
    },
    {
     "ename": "KeyError",
     "evalue": "'country'",
     "output_type": "error",
     "traceback": [
      "\u001b[1;31m---------------------------------------------------------------------------\u001b[0m",
      "\u001b[1;31mKeyError\u001b[0m                                  Traceback (most recent call last)",
      "Cell \u001b[1;32mIn[160], line 4\u001b[0m\n\u001b[0;32m      2\u001b[0m \u001b[38;5;28mprint\u001b[39m(\u001b[38;5;124m\"\u001b[39m\u001b[38;5;124mName:\u001b[39m\u001b[38;5;124m\"\u001b[39m, person[\u001b[38;5;124m\"\u001b[39m\u001b[38;5;124mname\u001b[39m\u001b[38;5;124m\"\u001b[39m])\n\u001b[0;32m      3\u001b[0m \u001b[38;5;28mprint\u001b[39m(\u001b[38;5;124m\"\u001b[39m\u001b[38;5;124mAge:\u001b[39m\u001b[38;5;124m\"\u001b[39m, person\u001b[38;5;241m.\u001b[39mget(\u001b[38;5;124m\"\u001b[39m\u001b[38;5;124mage\u001b[39m\u001b[38;5;124m\"\u001b[39m))\n\u001b[1;32m----> 4\u001b[0m \u001b[38;5;28mprint\u001b[39m(\u001b[38;5;124m\"\u001b[39m\u001b[38;5;124mCountry:\u001b[39m\u001b[38;5;124m\"\u001b[39m,person[\u001b[38;5;124m\"\u001b[39m\u001b[38;5;124mcountry\u001b[39m\u001b[38;5;124m\"\u001b[39m])\n\u001b[0;32m      5\u001b[0m \u001b[38;5;28mprint\u001b[39m(\u001b[38;5;124m\"\u001b[39m\u001b[38;5;124mCountry:\u001b[39m\u001b[38;5;124m\"\u001b[39m, person\u001b[38;5;241m.\u001b[39mget(\u001b[38;5;124m\"\u001b[39m\u001b[38;5;124mcountry\u001b[39m\u001b[38;5;124m\"\u001b[39m, \u001b[38;5;124m\"\u001b[39m\u001b[38;5;124mNot specified\u001b[39m\u001b[38;5;124m\"\u001b[39m))\n",
      "\u001b[1;31mKeyError\u001b[0m: 'country'"
     ]
    }
   ],
   "source": [
    "# Access\n",
    "print(\"Name:\", person[\"name\"])\n",
    "print(\"Age:\", person.get(\"age\"))\n",
    "print(\"Country:\",person[\"country\"])\n",
    "print(\"Country:\", person.get(\"country\", \"Not specified\")) # Safe access"
   ]
  },
  {
   "cell_type": "code",
   "execution_count": 162,
   "id": "b78f7c83-587c-4797-ac8a-9051ef2446fd",
   "metadata": {},
   "outputs": [
    {
     "name": "stdout",
     "output_type": "stream",
     "text": [
      "After operations: {'name': 'Bob', 'country': 'USA', 'job': 'Engineer', 'salary': 50000}\n",
      "Removed age: 31\n"
     ]
    }
   ],
   "source": [
    "# Modification\n",
    "person[\"age\"] = 31                    # Update\n",
    "person[\"country\"] = \"USA\"             # Add new : When assigning to a key that does not exist ==> add a new entry\n",
    "person.update({\"job\": \"Engineer\", \"salary\": 50000})  # Multiple updates\n",
    "\n",
    "# Removal\n",
    "removed_age = person.pop(\"age\")       # Remove and return\n",
    "del person[\"city\"]                    # Remove without return\n",
    "\n",
    "print(\"After operations:\", person)\n",
    "print(\"Removed age:\", removed_age)"
   ]
  },
  {
   "cell_type": "code",
   "execution_count": null,
   "id": "185b792d-ffeb-44c7-bdb6-96826b19342b",
   "metadata": {},
   "outputs": [],
   "source": [
    "# Iteration\n",
    "# the key-value entry is called item in Python\n",
    "print(\"\\nKeys:\", list(person.keys()))\n",
    "print(\"Values:\", list(person.values()))\n",
    "print(\"Items:\", list(person.items()))\n",
    "\n",
    "print(\"\\nLooping:\")\n",
    "for key in person.keys():\n",
    "    print(f\"key: {key}\", end=' ')\n",
    "print()\n",
    "for value in person.values():\n",
    "    print(f\"value: {value}\", end=' ')\n",
    "print()\n",
    "for key, value in person.items(): #item in dictionnaries is key:value\n",
    "    print(f\"  {key}: {value}\")"
   ]
  },
  {
   "cell_type": "markdown",
   "id": "63b89545-f7d3-4e2e-9ad3-f88de341ed3e",
   "metadata": {},
   "source": [
    "#### Exercise 12\n",
    "Create a dictionary called student_profile with the following key-value pairs:\n",
    "\"name\": \"Eve\"\n",
    "\"age\": 22\n",
    "\"major\": \"Computer Science\"\n",
    "\"gpa\": 3.8\n",
    "- Print the entire student_profile dictionary.\n",
    "- Access and print the student's name.\n",
    "- Access and print the student's major.\n",
    "- Try to access a non-existent key and observe the error."
   ]
  },
  {
   "cell_type": "code",
   "execution_count": 170,
   "id": "37df2e0d-0737-4d4e-8d09-6b095377b018",
   "metadata": {},
   "outputs": [
    {
     "name": "stdout",
     "output_type": "stream",
     "text": [
      "{'name': 'Eve', 'age': 22, 'major': 'Computer Science', 'gpa': 3.8}\n",
      "Eve\n",
      "Computer Science\n"
     ]
    },
    {
     "ename": "KeyError",
     "evalue": "'country'",
     "output_type": "error",
     "traceback": [
      "\u001b[1;31m---------------------------------------------------------------------------\u001b[0m",
      "\u001b[1;31mKeyError\u001b[0m                                  Traceback (most recent call last)",
      "Cell \u001b[1;32mIn[170], line 6\u001b[0m\n\u001b[0;32m      4\u001b[0m \u001b[38;5;28mprint\u001b[39m(student_profile[\u001b[38;5;124m\"\u001b[39m\u001b[38;5;124mname\u001b[39m\u001b[38;5;124m\"\u001b[39m])\n\u001b[0;32m      5\u001b[0m \u001b[38;5;28mprint\u001b[39m(student_profile[\u001b[38;5;124m\"\u001b[39m\u001b[38;5;124mmajor\u001b[39m\u001b[38;5;124m\"\u001b[39m])\n\u001b[1;32m----> 6\u001b[0m student_profile[\u001b[38;5;124m\"\u001b[39m\u001b[38;5;124mcountry\u001b[39m\u001b[38;5;124m\"\u001b[39m]\n",
      "\u001b[1;31mKeyError\u001b[0m: 'country'"
     ]
    }
   ],
   "source": [
    "# write your code here\n",
    "student_profile = {\"name\": \"Eve\", \"age\": 22, \"major\": \"Computer Science\", \"gpa\": 3.8 }\n",
    "print(student_profile)\n",
    "print(student_profile[\"name\"])\n",
    "print(student_profile[\"major\"])\n",
    "student_profile[\"country\"]"
   ]
  },
  {
   "cell_type": "markdown",
   "id": "d6e65ae0-de19-4d12-b59d-d04424bd516e",
   "metadata": {},
   "source": [
    "#### Exercise 13\n",
    "- Add a new key-value pair \"university\": \"Tech University\" to student_profile.\n",
    "- Update the student's gpa to 3.9.\n",
    "- Remove the \"age\" key-value pair from the dictionary.\n",
    "- Iterate through student_profile and print all keys.\n",
    "- Iterate through student_profile and print all values.\n",
    "- Iterate through student_profile and print all key-value pairs."
   ]
  },
  {
   "cell_type": "code",
   "execution_count": null,
   "id": "946371f1-fed7-4840-89af-b67474d51183",
   "metadata": {},
   "outputs": [],
   "source": [
    "# write your code here\n",
    "#homework"
   ]
  },
  {
   "cell_type": "markdown",
   "id": "edafeefc-c1de-437c-a337-09a0b69e84da",
   "metadata": {},
   "source": [
    "### Dictionary of Dictionaries"
   ]
  },
  {
   "cell_type": "markdown",
   "id": "26313348-f6e1-475c-b399-3687000f4396",
   "metadata": {},
   "source": [
    "#### Exercise 14 \n",
    "Create a dictionary library where keys are book titles and values are dictionaries containing \"author\" and \"year\".\n",
    "Python\n",
    "library = {\n",
    "\"The Great Gatsby\": {\"author\": \"F. Scott Fitzgerald\", \"year\":1925 },\n",
    "\"1984\": {\"author\": \"George Orwell\", \"year\":1949 }\n",
    "}\n",
    "- Access and print the author of \"1984\".\n",
    "- Add a new book: \"To Kill a Mockingbird\", by \"Harper Lee\", published in 1960.\n",
    "- Print all book titles and their respective authors."
   ]
  },
  {
   "cell_type": "code",
   "execution_count": 180,
   "id": "edc2486e-6e44-4236-a4cb-e852567e8c8a",
   "metadata": {},
   "outputs": [
    {
     "name": "stdout",
     "output_type": "stream",
     "text": [
      "1949\n"
     ]
    }
   ],
   "source": [
    "# write your code here\n",
    "library = { \"The Great Gatsby\": {\"author\": \"F. Scott Fitzgerald\", \"year\":1925 }, \"1984\": {\"author\": \"George Orwell\", \"year\":1949 } }\n",
    "print(library[\"1984\"][\"year\"])"
   ]
  },
  {
   "cell_type": "code",
   "execution_count": null,
   "id": "45402cff-f6ab-4d5a-8921-0564713e9f3c",
   "metadata": {},
   "outputs": [],
   "source": []
  }
 ],
 "metadata": {
  "kernelspec": {
   "display_name": "Python [conda env:base] *",
   "language": "python",
   "name": "conda-base-py"
  },
  "language_info": {
   "codemirror_mode": {
    "name": "ipython",
    "version": 3
   },
   "file_extension": ".py",
   "mimetype": "text/x-python",
   "name": "python",
   "nbconvert_exporter": "python",
   "pygments_lexer": "ipython3",
   "version": "3.12.7"
  }
 },
 "nbformat": 4,
 "nbformat_minor": 5
}
