{
 "cells": [
  {
   "cell_type": "markdown",
   "id": "1ea20c5a-a3d9-457e-911f-114e8f5096c9",
   "metadata": {},
   "source": [
    "# Python Basics Tutorial\n",
    "Welcome to your first Python lesson! In this notebook, we'll cover the fundamental concepts of Python programming."
   ]
  },
  {
   "cell_type": "markdown",
   "id": "7b702df8-6a9f-45ec-8cf0-2b11660e8ceb",
   "metadata": {},
   "source": [
    "## A first python code"
   ]
  },
  {
   "cell_type": "code",
   "execution_count": 1,
   "id": "41ad1d9b-3551-4550-84a6-e353692915ad",
   "metadata": {},
   "outputs": [
    {
     "name": "stdout",
     "output_type": "stream",
     "text": [
      "=== Your First Python Code ===\n",
      "Hello, dear students!\n"
     ]
    }
   ],
   "source": [
    "print(\"=== Your First Python Code ===\")\n",
    "print(\"Hello, dear students!\")"
   ]
  },
  {
   "cell_type": "markdown",
   "id": "50943882-1d29-453a-a806-101926fff540",
   "metadata": {},
   "source": [
    "#  Display directly vs with print"
   ]
  },
  {
   "cell_type": "code",
   "execution_count": null,
   "id": "6af6ef8a-945e-4cee-a3aa-4d393ffa07ee",
   "metadata": {},
   "outputs": [],
   "source": [
    "print(\"=== Display Methods ===\")\n",
    "# Direct display (only works in Jupyter as last line of cell)\n",
    "\"Hello World - Direct Display\""
   ]
  },
  {
   "cell_type": "code",
   "execution_count": null,
   "id": "154ee8b0-a134-41b8-90f8-6302007a4100",
   "metadata": {},
   "outputs": [],
   "source": [
    "# Using print function\n",
    "print(\"Hello World - Using print()\")"
   ]
  },
  {
   "cell_type": "code",
   "execution_count": 3,
   "id": "5ad8fb3c-0b57-42d9-a0f8-aad1d7fa1641",
   "metadata": {},
   "outputs": [
    {
     "data": {
      "text/plain": [
       "10"
      ]
     },
     "execution_count": 3,
     "metadata": {},
     "output_type": "execute_result"
    }
   ],
   "source": [
    "#another example with numbers\n",
    "a=10\n",
    "a"
   ]
  },
  {
   "cell_type": "code",
   "execution_count": null,
   "id": "0f8dd22f-aeba-4663-887c-b642deba10fc",
   "metadata": {},
   "outputs": [],
   "source": [
    "print(a)"
   ]
  },
  {
   "cell_type": "markdown",
   "id": "c162ec29-4bed-4b72-b0be-fd4130f72fa1",
   "metadata": {},
   "source": [
    "# Repeating Text\n",
    "Method 1: Using string multiplication"
   ]
  },
  {
   "cell_type": "code",
   "execution_count": 5,
   "id": "28999657-caec-47c5-b971-32dae29400ee",
   "metadata": {},
   "outputs": [
    {
     "data": {
      "text/plain": [
       "'Hello, World! Hello, World! Hello, World! Hello, World! Hello, World! Hello, World! Hello, World! Hello, World! Hello, World! Hello, World! '"
      ]
     },
     "execution_count": 5,
     "metadata": {},
     "output_type": "execute_result"
    }
   ],
   "source": [
    "\"Hello, World! \"*10"
   ]
  },
  {
   "cell_type": "code",
   "execution_count": null,
   "id": "ff429f67-63f0-4dae-9c12-a7ccfc61823c",
   "metadata": {},
   "outputs": [],
   "source": [
    "print(\"Hello World \"*3)"
   ]
  },
  {
   "cell_type": "markdown",
   "id": "3a8c1513-5125-472e-a0e4-672c71b8d010",
   "metadata": {},
   "source": [
    "# Variables and expressions"
   ]
  },
  {
   "cell_type": "markdown",
   "id": "65757a02-4e97-4320-9f8b-d83a5179daea",
   "metadata": {},
   "source": [
    "### Variable assignment"
   ]
  },
  {
   "cell_type": "code",
   "execution_count": 7,
   "id": "467498e6-6490-4bc0-a278-75caa969ab58",
   "metadata": {},
   "outputs": [
    {
     "name": "stdout",
     "output_type": "stream",
     "text": [
      "=== Variables and Expressions ===\n",
      "25\n",
      "15 + 10 = 25\n"
     ]
    }
   ],
   "source": [
    "print(\"=== Variables and Expressions ===\")\n",
    "x = 15 # variable x is set to 5\n",
    "y = 10 # variable y is set to 10\n",
    "\n",
    "# Expression\n",
    "result = x + y\n",
    "#print the sum\n",
    "print(result)\n",
    "#print the sum with f-strings (formatted strings)\n",
    "print(f\"{x} + {y} = {result}\")\n",
    "\n"
   ]
  },
  {
   "cell_type": "markdown",
   "id": "d157766c-f175-48e0-9390-4e5cef3b3fc1",
   "metadata": {},
   "source": [
    "#### Multiple assignments"
   ]
  },
  {
   "cell_type": "code",
   "execution_count": 9,
   "id": "e4e883e7-5f82-4d65-af16-63b19cd2199f",
   "metadata": {},
   "outputs": [
    {
     "name": "stdout",
     "output_type": "stream",
     "text": [
      "a = 1, b = 2, c = 3\n"
     ]
    }
   ],
   "source": [
    "a, b, c = 1, 2, 3\n",
    "print(f\"a = {a}, b = {b}, c = {c}\")"
   ]
  },
  {
   "cell_type": "markdown",
   "id": "9be17990-c419-47ed-a433-36ffee3873fa",
   "metadata": {},
   "source": [
    "### Variable reassignment"
   ]
  },
  {
   "cell_type": "code",
   "execution_count": 11,
   "id": "4afc1fe2-71f6-4f6f-ab75-83757b27084c",
   "metadata": {},
   "outputs": [
    {
     "name": "stdout",
     "output_type": "stream",
     "text": [
      "Initial counter: 0\n",
      "After increment: 1\n",
      "After another increment: 2\n"
     ]
    }
   ],
   "source": [
    "counter = 0\n",
    "print(\"Initial counter:\", counter)\n",
    "counter = counter + 1\n",
    "print(\"After increment:\", counter)\n",
    "counter += 1  # Shorthand\n",
    "print(\"After another increment:\", counter)"
   ]
  },
  {
   "cell_type": "markdown",
   "id": "2a99d6e4-bdcc-43b4-9cce-22e7865ff84e",
   "metadata": {},
   "source": [
    "# Data types and type operator"
   ]
  },
  {
   "cell_type": "code",
   "execution_count": 13,
   "id": "8e50cfeb-eba3-4e6b-81a7-ac8e19955944",
   "metadata": {},
   "outputs": [
    {
     "name": "stdout",
     "output_type": "stream",
     "text": [
      "=== Data Types ===\n",
      "Type of 42: <class 'int'>\n",
      "Type of 3.14: <class 'float'>\n",
      "Type of 'Python': <class 'str'>\n",
      "Type of True: <class 'bool'>\n"
     ]
    }
   ],
   "source": [
    "print(\"=== Data Types ===\")\n",
    "integer_var = 42\n",
    "float_var = 3.14\n",
    "string_var = \"Python\"\n",
    "boolean_var = True\n",
    "none_var = None\n",
    "\n",
    "# Using type() function to check data types\n",
    "print(f\"Type of {integer_var}: {type(integer_var)}\")\n",
    "print(f\"Type of {float_var}: {type(float_var)}\")\n",
    "print(f\"Type of '{string_var}': {type(string_var)}\")\n",
    "print(f\"Type of {boolean_var}: {type(boolean_var)}\")"
   ]
  },
  {
   "cell_type": "markdown",
   "id": "b8581b60-5e0d-4cbe-b4c0-94afe4b76261",
   "metadata": {},
   "source": [
    "### Type casting"
   ]
  },
  {
   "cell_type": "code",
   "execution_count": 19,
   "id": "6a881f99-4201-4dfe-834d-e4c35c0b4219",
   "metadata": {},
   "outputs": [
    {
     "name": "stdout",
     "output_type": "stream",
     "text": [
      "String '123' to int: 123\n",
      "String '123' to float: 123.0\n",
      "String 'True' to bool: True\n",
      "Integer 123 to string: '123'\n"
     ]
    }
   ],
   "source": [
    "### to change the type of a varible use (type) and replace type by the name of the desized type\n",
    "number_str = \"123\"\n",
    "number_int = int(number_str)\n",
    "number_float = float(number_str)\n",
    "bool_str =\"True\" \n",
    "bool_val = bool(bool_str)\n",
    "\n",
    "print(f\"String '{number_str}' to int: {number_int}\")\n",
    "print(f\"String '{number_str}' to float: {number_float}\")\n",
    "print(f\"String '{bool_str}' to bool: {bool_val}\")\n",
    "print(f\"Integer {number_int} to string: '{str(number_int)}'\")"
   ]
  },
  {
   "cell_type": "markdown",
   "id": "3a99b80e-62de-45fb-b07b-4f2f61291e01",
   "metadata": {},
   "source": [
    "#### Arthmetic operators"
   ]
  },
  {
   "cell_type": "code",
   "execution_count": null,
   "id": "6010ffa6-88ae-4326-aa5c-9674d601e21c",
   "metadata": {},
   "outputs": [],
   "source": [
    "a = 15\n",
    "b = 4\n",
    "\n",
    "print(f\"a = {a}, b = {b}\")\n",
    "print(f\"Addition (+): {a} + {b} = {a + b}\")\n",
    "print(f\"Subtraction (-): {a} - {b} = {a - b}\")\n",
    "print(f\"Multiplication (*): {a} * {b} = {a * b}\")\n",
    "print(f\"Division (/): {a} / {b} = {a / b}\")\n",
    "print(f\"Floor Division (//): {a} // {b} = {a // b}\")\n",
    "print(f\"Modulus (%): {a} % {b} = {a % b}\")\n",
    "print(f\"Exponentiation (**): {a} ** {b} = {a ** b}\")"
   ]
  },
  {
   "cell_type": "markdown",
   "id": "ae30e82f-6c99-45ae-926d-b5fcc49efa02",
   "metadata": {},
   "source": [
    "#### Operators precedence"
   ]
  },
  {
   "cell_type": "code",
   "execution_count": 21,
   "id": "e150f215-269a-408f-ab73-900527eb6e1e",
   "metadata": {},
   "outputs": [
    {
     "name": "stdout",
     "output_type": "stream",
     "text": [
      "2 + 3 * 4 = 14 (not 20!)\n",
      "(2 + 3) * 4 = 20\n",
      "10 - 4 + 2 = 8 (not 4!)\n",
      "2 ** 3 * 4 = 32\n"
     ]
    }
   ],
   "source": [
    "# Examples showing operator precedence\n",
    "result1 = 2 + 3 * 4      # Multiplication before addition\n",
    "result2 = (2 + 3) * 4    # Parentheses change order\n",
    "result3 = 10 - 4 + 2     # Left to right for same precedence\n",
    "result4 = 2 ** 3 * 4     # Exponentiation before multiplication\n",
    "\n",
    "print(f\"2 + 3 * 4 = {result1} (not 20!)\")\n",
    "print(f\"(2 + 3) * 4 = {result2}\")\n",
    "print(f\"10 - 4 + 2 = {result3} (not 4!)\")\n",
    "print(f\"2 ** 3 * 4 = {result4}\")\n",
    "\n",
    "# Operator precedence from highest to lowest:\n",
    "# 1. Parentheses: ()\n",
    "# 2. Exponentiation: **\n",
    "# 3. Multiplication, Division, Floor Division, Modulus: *, /, //, %\n",
    "# 4. Addition, Subtraction: +, -"
   ]
  },
  {
   "cell_type": "markdown",
   "id": "d645082c-f185-4211-aa8f-6c2c9f0384b9",
   "metadata": {},
   "source": [
    "### String"
   ]
  },
  {
   "cell_type": "markdown",
   "id": "64b0d967-5b07-4c6b-863c-c94fb844a8e8",
   "metadata": {},
   "source": [
    "#### String creation"
   ]
  },
  {
   "cell_type": "code",
   "execution_count": 25,
   "id": "b051155d-04bd-4da9-9d7c-9bbcf1b94248",
   "metadata": {},
   "outputs": [
    {
     "name": "stdout",
     "output_type": "stream",
     "text": [
      "Hello\n",
      "World\n",
      "This is a\n",
      "multi-line string\n"
     ]
    },
    {
     "data": {
      "text/plain": [
       "\"that's amazing\""
      ]
     },
     "execution_count": 25,
     "metadata": {},
     "output_type": "execute_result"
    }
   ],
   "source": [
    "single_quotes = 'Hello'\n",
    "double_quotes = \"World\"\n",
    "triple_quotes = \"\"\"This is a\n",
    "multi-line string\"\"\"\n",
    "\n",
    "print(single_quotes)\n",
    "print(double_quotes)\n",
    "print(triple_quotes)\n",
    "\"that's amazing\""
   ]
  },
  {
   "cell_type": "markdown",
   "id": "4ba08c06-8585-4466-86bf-b322c3e4befb",
   "metadata": {},
   "source": [
    "#### String concatenation"
   ]
  },
  {
   "cell_type": "code",
   "execution_count": 27,
   "id": "3db53ec9-aa88-4e7c-9c6c-445dde5d5455",
   "metadata": {},
   "outputs": [
    {
     "name": "stdout",
     "output_type": "stream",
     "text": [
      "Concatenation with +: Hello World\n",
      "Using f-string: Hello Python!\n",
      "Using .format(): Hello World!\n"
     ]
    }
   ],
   "source": [
    "# Method 1: Using +\n",
    "string1 = \"Hello\"\n",
    "string2 = \"World\"\n",
    "result = string1 + \" \" + string2\n",
    "print(\"Concatenation with +:\", result)\n",
    "\n",
    "# Method 2: Using f-strings (formatted strings)\n",
    "name = \"Python\"\n",
    "message = f\"Hello {name}!\"\n",
    "print(\"Using f-string:\", message)\n",
    "\n",
    "# Method 3: Using .format()\n",
    "message2 = \"Hello {}!\".format(\"World\")\n",
    "print(\"Using .format():\", message2)"
   ]
  },
  {
   "cell_type": "markdown",
   "id": "89777bb0-9980-4718-a61c-6e465df2f7a4",
   "metadata": {},
   "source": [
    "#### String methods"
   ]
  },
  {
   "cell_type": "code",
   "execution_count": 29,
   "id": "fb287a10-b85d-4710-8ebe-4cb84ebd1bb6",
   "metadata": {},
   "outputs": [
    {
     "name": "stdout",
     "output_type": "stream",
     "text": [
      "Original: '  python programming  '\n",
      "Upper: '  PYTHON PROGRAMMING  '\n",
      "Lower: '  python programming  '\n",
      "Title: '  Python Programming  '\n",
      "Stripped: 'python programming'\n",
      "Replaced: '  PYTHON programming  '\n"
     ]
    }
   ],
   "source": [
    "text = \"  python programming  \"\n",
    "print(f\"Original: '{text}'\")\n",
    "print(f\"Upper: '{text.upper()}'\")\n",
    "print(f\"Lower: '{text.lower()}'\")\n",
    "print(f\"Title: '{text.title()}'\")\n",
    "print(f\"Stripped: '{text.strip()}'\")\n",
    "print(f\"Replaced: '{text.replace('python', 'PYTHON')}'\")"
   ]
  },
  {
   "cell_type": "code",
   "execution_count": null,
   "id": "f8735260-62ed-48af-b777-780547a76624",
   "metadata": {},
   "outputs": [],
   "source": [
    "#### String indexing and slicing"
   ]
  },
  {
   "cell_type": "code",
   "execution_count": 33,
   "id": "165039a2-ac24-43f0-966f-318e449f89eb",
   "metadata": {},
   "outputs": [
    {
     "name": "stdout",
     "output_type": "stream",
     "text": [
      "First character: 'H'\n",
      "Last character: 'nohtyP olleH'\n",
      "Substring (slicing): 'Python'\n"
     ]
    }
   ],
   "source": [
    "message = \"Hello Python\"\n",
    "print(f\"First character: '{message[0]}'\")\n",
    "print(f\"Last character: '{message[::-1]}'\")\n",
    "print(f\"Substring (slicing): '{message[6:12]}'\")"
   ]
  },
  {
   "cell_type": "markdown",
   "id": "70a27a38-8ea6-4a99-8970-dc6c12edf59c",
   "metadata": {},
   "source": [
    "### Boolean"
   ]
  },
  {
   "cell_type": "code",
   "execution_count": 35,
   "id": "ac3d626d-8f6d-41f9-8803-c2b755203589",
   "metadata": {},
   "outputs": [
    {
     "name": "stdout",
     "output_type": "stream",
     "text": [
      "True: True\n",
      "False: False\n"
     ]
    }
   ],
   "source": [
    "# Boolean values\n",
    "true_value = True\n",
    "false_value = False\n",
    "\n",
    "print(f\"True: {true_value}\")\n",
    "print(f\"False: {false_value}\")"
   ]
  },
  {
   "cell_type": "code",
   "execution_count": 37,
   "id": "3e97e27e-6db2-473a-9bb1-e7dde13c7fd4",
   "metadata": {},
   "outputs": [
    {
     "name": "stdout",
     "output_type": "stream",
     "text": [
      "=== Logic Operators ===\n",
      "AND Operator:\n",
      "True and True: True\n",
      "True and False: False\n",
      "False and True: False\n",
      "False and False: False\n",
      "\n",
      "OR Operator:\n",
      "True or True: True\n",
      "True or False: True\n",
      "False or True: True\n",
      "False or False: False\n",
      "\n",
      "NOT Operator:\n",
      "not True: False\n",
      "not False: True\n"
     ]
    }
   ],
   "source": [
    "#  Logic operators\n",
    "print(\"=== Logic Operators ===\")\n",
    "# AND operator (conjunction)\n",
    "print(\"AND Operator:\")\n",
    "print(f\"True and True: {True and True}\")\n",
    "print(f\"True and False: {True and False}\")\n",
    "print(f\"False and True: {False and True}\")\n",
    "print(f\"False and False: {False and False}\")\n",
    "\n",
    "# OR operator (disjunction)\n",
    "print(\"\\nOR Operator:\")\n",
    "print(f\"True or True: {True or True}\")\n",
    "print(f\"True or False: {True or False}\")\n",
    "print(f\"False or True: {False or True}\")\n",
    "print(f\"False or False: {False or False}\")\n",
    "\n",
    "# NOT operator (negation)\n",
    "print(\"\\nNOT Operator:\")\n",
    "print(f\"not True: {not True}\")\n",
    "print(f\"not False: {not False}\")"
   ]
  },
  {
   "cell_type": "markdown",
   "id": "7d536b2d-8dba-43ac-8618-c5df155e9ce2",
   "metadata": {},
   "source": [
    "#### Comparison operations"
   ]
  },
  {
   "cell_type": "code",
   "execution_count": 39,
   "id": "0ea7deaa-e773-47f8-bcbf-9690aa35ba00",
   "metadata": {},
   "outputs": [
    {
     "name": "stdout",
     "output_type": "stream",
     "text": [
      "10 > 5: True\n",
      "10 < 5: False\n",
      "10 == 5: False\n",
      "10 != 5: True\n",
      "10 >= 5: True\n",
      "10 <= 5: False\n"
     ]
    }
   ],
   "source": [
    "x = 10\n",
    "y = 5\n",
    "print(f\"{x} > {y}: {x > y}\")\n",
    "print(f\"{x} < {y}: {x < y}\")\n",
    "print(f\"{x} == {y}: {x == y}\")\n",
    "print(f\"{x} != {y}: {x != y}\")\n",
    "print(f\"{x} >= {y}: {x >= y}\")\n",
    "print(f\"{x} <= {y}: {x <= y}\")"
   ]
  },
  {
   "cell_type": "markdown",
   "id": "60340ac7-c258-411c-8088-2b808e40dc14",
   "metadata": {},
   "source": [
    "# Input "
   ]
  },
  {
   "cell_type": "markdown",
   "id": "27cecc85-9246-4fd4-912b-eb3bd82847f7",
   "metadata": {},
   "source": [
    "#### Basic input"
   ]
  },
  {
   "cell_type": "code",
   "execution_count": 41,
   "id": "9281a869-3e9b-490c-947b-3310d3ef9725",
   "metadata": {},
   "outputs": [
    {
     "name": "stdin",
     "output_type": "stream",
     "text": [
      "Enter your name:  lamia\n"
     ]
    },
    {
     "name": "stdout",
     "output_type": "stream",
     "text": [
      "Hello, lamia!\n",
      "\n",
      "Let's do some math!\n"
     ]
    },
    {
     "name": "stdin",
     "output_type": "stream",
     "text": [
      "Enter first number:  12\n",
      "Enter second number:  15\n"
     ]
    },
    {
     "name": "stdout",
     "output_type": "stream",
     "text": [
      "You entered 12 and 15\n"
     ]
    }
   ],
   "source": [
    "name = input(\"Enter your name: \")\n",
    "print(f\"Hello, {name}!\")\n",
    "\n",
    "# Multiple inputs\n",
    "print(\"\\nLet's do some math!\")\n",
    "num1 = input(\"Enter first number: \")\n",
    "num2 = input(\"Enter second number: \")\n",
    "print(f\"You entered {num1} and {num2}\")"
   ]
  },
  {
   "cell_type": "markdown",
   "id": "a655244e-906d-42e9-8c81-fc519786325f",
   "metadata": {},
   "source": [
    "#### Input with prompt"
   ]
  },
  {
   "cell_type": "code",
   "execution_count": null,
   "id": "6e611c33-b311-4ac1-a682-718add3e7590",
   "metadata": {},
   "outputs": [],
   "source": [
    "age = input(\"How old are you? \")\n",
    "print(f\"You are {age} years old.\")"
   ]
  },
  {
   "cell_type": "markdown",
   "id": "3ab0aefb-2c61-445c-9856-e489ee217b13",
   "metadata": {},
   "source": [
    "### Cast input"
   ]
  },
  {
   "cell_type": "code",
   "execution_count": 43,
   "id": "a7aa5a65-0a47-4d28-95cd-458302117944",
   "metadata": {},
   "outputs": [
    {
     "name": "stdin",
     "output_type": "stream",
     "text": [
      "Enter a number:  12\n",
      "Enter another number:  14\n"
     ]
    },
    {
     "name": "stdout",
     "output_type": "stream",
     "text": [
      "Without casting: '12' + '14' = '1214'\n",
      "With casting (int): 12 + 14 = 26\n"
     ]
    }
   ],
   "source": [
    "# Why we need casting\n",
    "num1 = int(input(\"Enter a number: \"))\n",
    "num2 = input(\"Enter another number: \")\n",
    "print(f\"Without casting: '{num1}' + '{num2}' = '{num1 + num2}'\")\n",
    "\n",
    "# Casting to integers\n",
    "num1_int = int(num1)\n",
    "num2_int = int(num2)\n",
    "print(f\"With casting (int): {num1_int} + {num2_int} = {num1_int + num2_int}\")"
   ]
  },
  {
   "cell_type": "code",
   "execution_count": null,
   "id": "8554f653-29cd-4f18-b5c7-5d1e5bd132ad",
   "metadata": {},
   "outputs": [],
   "source": []
  }
 ],
 "metadata": {
  "kernelspec": {
   "display_name": "Python [conda env:base] *",
   "language": "python",
   "name": "conda-base-py"
  },
  "language_info": {
   "codemirror_mode": {
    "name": "ipython",
    "version": 3
   },
   "file_extension": ".py",
   "mimetype": "text/x-python",
   "name": "python",
   "nbconvert_exporter": "python",
   "pygments_lexer": "ipython3",
   "version": "3.12.7"
  }
 },
 "nbformat": 4,
 "nbformat_minor": 5
}
